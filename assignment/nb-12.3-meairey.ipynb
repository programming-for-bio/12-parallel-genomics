{
 "cells": [
  {
   "cell_type": "markdown",
   "metadata": {},
   "source": [
    "### Assignment: assemble an ipyrad example data set\n",
    "\n",
    "Follow the instructions here: http://ipyrad.readthedocs.io/API_user-guide.html to assemble a dataset using the ipyrad API. You will need to download the dataset as instructed below. This dataset is different from the one in the linked tutorial. Be sure to download the data into your scratch space, and to set the project directory for you ipyrad analysis to your scratch directory. You can use any of the datasets in the downloaded directory. Read the ipyrad docs if you have questions and/or hit up the gitter chatroom. \n",
    "\n",
    "** When finished copy this notebook to your assignments/ dir, push it, and make a pull request**. "
   ]
  },
  {
   "cell_type": "code",
   "execution_count": 5,
   "metadata": {},
   "outputs": [],
   "source": [
    "import ipyrad as ip\n",
    "import ipyparallel as ipp"
   ]
  },
  {
   "cell_type": "markdown",
   "metadata": {},
   "source": [
    "### Download the data\n",
    "You will probably want to move the data to your scratch directory. You can run this code here to download it, or from a terminal. "
   ]
  },
  {
   "cell_type": "code",
   "execution_count": 13,
   "metadata": {
    "scrolled": true
   },
   "outputs": [
    {
     "name": "stdout",
     "output_type": "stream",
     "text": [
      "./ipsimdata/\n",
      "./ipsimdata/pairgbs_example_R2_.fastq.gz\n",
      "./ipsimdata/pairgbs_wmerge_example_barcodes.txt\n",
      "./ipsimdata/rad_example_genome.fa\n",
      "./ipsimdata/pairddrad_example_genome.fa\n",
      "./ipsimdata/pairgbs_example_R1_.fastq.gz\n",
      "./ipsimdata/pairgbs_wmerge_example_R2_.fastq.gz\n",
      "./ipsimdata/rad_example_genome.fa.fai\n",
      "./ipsimdata/pairddrad_example_R2_.fastq.gz\n",
      "./ipsimdata/pairddrad_example_genome.fa.sma\n",
      "./ipsimdata/pairddrad_example_genome.fa.fai\n",
      "./ipsimdata/pairgbs_wmerge_example_genome.fa\n",
      "./ipsimdata/pairddrad_wmerge_example_genome.fa\n",
      "./ipsimdata/pairddrad_example_genome.fa.smi\n",
      "./ipsimdata/pairgbs_wmerge_example_R1_.fastq.gz\n",
      "./ipsimdata/rad_example_genome.fa.smi\n",
      "./ipsimdata/gbs_example_barcodes.txt\n",
      "./ipsimdata/pairgbs_example_barcodes.txt\n",
      "./ipsimdata/pairddrad_example_R1_.fastq.gz\n",
      "./ipsimdata/pairddrad_wmerge_example_barcodes.txt\n",
      "./ipsimdata/rad_example_barcodes.txt\n",
      "./ipsimdata/pairddrad_wmerge_example_R1_.fastq.gz\n",
      "./ipsimdata/pairddrad_wmerge_example_R2_.fastq.gz\n",
      "./ipsimdata/gbs_example_R1_.fastq.gz\n",
      "./ipsimdata/pairddrad_example_barcodes.txt\n",
      "./ipsimdata/rad_example_genome.fa.sma\n",
      "./ipsimdata/rad_example_R1_.fastq.gz\n",
      "./ipsimdata/gbs_example_genome.fa\n"
     ]
    },
    {
     "name": "stderr",
     "output_type": "stream",
     "text": [
      "  % Total    % Received % Xferd  Average Speed   Time    Time     Time  Current\n",
      "                                 Dload  Upload   Total   Spent    Left  Speed\n",
      "\r",
      "  0     0    0     0    0     0      0      0 --:--:-- --:--:-- --:--:--     0\r",
      "  0     0    0     0    0     0      0      0 --:--:-- --:--:-- --:--:--     0\r",
      "100   147  100   147    0     0    835      0 --:--:-- --:--:-- --:--:--   830\n",
      "\r",
      " 96 11.8M   96 11.5M    0     0  10.4M      0  0:00:01  0:00:01 --:--:-- 10.4M\r",
      "100 11.8M  100 11.8M    0     0  10.7M      0  0:00:01  0:00:01 --:--:-- 32.4M\n"
     ]
    }
   ],
   "source": [
    "%%bash\n",
    "## The curl command needs a capital O, not a zero\n",
    "curl -LkO https://github.com/dereneaton/ipyrad/raw/master/tests/ipsimdata.tar.gz\n",
    "tar -xvzf ipsimdata.tar.gz"
   ]
  },
  {
   "cell_type": "code",
   "execution_count": 14,
   "metadata": {},
   "outputs": [
    {
     "name": "stdout",
     "output_type": "stream",
     "text": [
      "gbs_example_barcodes.txt               pairgbs_example_barcodes.txt\r\n",
      "gbs_example_genome.fa                  \u001b[0m\u001b[01;31mpairgbs_example_R1_.fastq.gz\u001b[0m\r\n",
      "\u001b[01;31mgbs_example_R1_.fastq.gz\u001b[0m               \u001b[01;31mpairgbs_example_R2_.fastq.gz\u001b[0m\r\n",
      "pairddrad_example_barcodes.txt         pairgbs_wmerge_example_barcodes.txt\r\n",
      "pairddrad_example_genome.fa            pairgbs_wmerge_example_genome.fa\r\n",
      "pairddrad_example_genome.fa.fai        \u001b[01;31mpairgbs_wmerge_example_R1_.fastq.gz\u001b[0m\r\n",
      "pairddrad_example_genome.fa.sma        \u001b[01;31mpairgbs_wmerge_example_R2_.fastq.gz\u001b[0m\r\n",
      "pairddrad_example_genome.fa.smi        rad_example_barcodes.txt\r\n",
      "\u001b[01;31mpairddrad_example_R1_.fastq.gz\u001b[0m         rad_example_genome.fa\r\n",
      "\u001b[01;31mpairddrad_example_R2_.fastq.gz\u001b[0m         rad_example_genome.fa.fai\r\n",
      "pairddrad_wmerge_example_barcodes.txt  rad_example_genome.fa.sma\r\n",
      "pairddrad_wmerge_example_genome.fa     rad_example_genome.fa.smi\r\n",
      "\u001b[01;31mpairddrad_wmerge_example_R1_.fastq.gz\u001b[0m  \u001b[01;31mrad_example_R1_.fastq.gz\u001b[0m\r\n",
      "\u001b[01;31mpairddrad_wmerge_example_R2_.fastq.gz\u001b[0m\r\n"
     ]
    }
   ],
   "source": [
    "ls ipsimdata/"
   ]
  },
  {
   "cell_type": "markdown",
   "metadata": {},
   "source": [
    "### Connect to an ipcluster instance"
   ]
  },
  {
   "cell_type": "code",
   "execution_count": 16,
   "metadata": {},
   "outputs": [
    {
     "data": {
      "text/plain": [
       "[0, 1, 2, 3]"
      ]
     },
     "execution_count": 16,
     "metadata": {},
     "output_type": "execute_result"
    }
   ],
   "source": [
    "ipyclient = ipp.Client()\n",
    "ipyclient.ids"
   ]
  },
  {
   "cell_type": "code",
   "execution_count": 29,
   "metadata": {
    "scrolled": true
   },
   "outputs": [
    {
     "name": "stdout",
     "output_type": "stream",
     "text": [
      "New Assembly: pairddrad\n",
      "0   assembly_name               pairddrad                                    \n",
      "1   project_dir                 ./ipsimdata/pairddrad                        \n",
      "2   raw_fastq_path              ./ipsimdata/pairddrad/*.gz                   \n",
      "3   barcodes_path               ./ipsimdata/pairddrad/pairddrad_example_barcodes.txt\n",
      "4   sorted_fastq_path                                                        \n",
      "5   assembly_method             denovo                                       \n",
      "6   reference_sequence                                                       \n",
      "7   datatype                    pairddrad                                    \n",
      "8   restriction_overhang        ('TGCAG', '')                                \n",
      "9   max_low_qual_bases          5                                            \n",
      "10  phred_Qscore_offset         33                                           \n",
      "11  mindepth_statistical        6                                            \n",
      "12  mindepth_majrule            6                                            \n",
      "13  maxdepth                    10000                                        \n",
      "14  clust_threshold             0.85                                         \n",
      "15  max_barcode_mismatch        0                                            \n",
      "16  filter_adapters             2                                            \n",
      "17  filter_min_trim_len         35                                           \n",
      "18  max_alleles_consens         2                                            \n",
      "19  max_Ns_consens              (5, 5)                                       \n",
      "20  max_Hs_consens              (8, 8)                                       \n",
      "21  min_samples_locus           4                                            \n",
      "22  max_SNPs_locus              (20, 20)                                     \n",
      "23  max_Indels_locus            (8, 8)                                       \n",
      "24  max_shared_Hs_locus         0.5                                          \n",
      "25  trim_reads                  (0, 0, 0, 0)                                 \n",
      "26  trim_loci                   (0, 0, 0, 0)                                 \n",
      "27  output_formats              ['p', 's', 'v']                              \n",
      "28  pop_assign_file                                                          \n"
     ]
    }
   ],
   "source": [
    "data_pairddrad = ip.Assembly(\"pairddrad\")\n",
    "\n",
    "data_pairddrad.set_params('project_dir', 'ipsimdata/pairddrad/')\n",
    "data_pairddrad.set_params('barcodes_path', 'ipsimdata/pairddrad/pairddrad_example_barcodes.txt')\n",
    "data_pairddrad.set_params('raw_fastq_path','ipsimdata/pairddrad/*.gz')\n",
    "data_pairddrad.set_params('datatype', 'pairddrad')\n",
    "data_pairddrad.set_params('filter_adapters', 2)\n",
    "data_pairddrad.get_params() # prints the parameters to the screen"
   ]
  },
  {
   "cell_type": "markdown",
   "metadata": {},
   "source": [
    "### Assembly the dataset from step 1 to step 7"
   ]
  },
  {
   "cell_type": "code",
   "execution_count": 30,
   "metadata": {
    "scrolled": true
   },
   "outputs": [
    {
     "name": "stdout",
     "output_type": "stream",
     "text": [
      "Assembly: pairddrad\n",
      "[####################] 100%  sorting reads         | 0:00:03 | s1 | \n",
      "[####################] 100%  writing/compressing   | 0:00:00 | s1 | \n",
      "[####################] 100%  processing reads      | 0:00:05 | s2 | \n",
      "[####################] 100%  dereplicating         | 0:00:01 | s3 | \n",
      "[####################] 100%  clustering            | 0:00:02 | s3 | \n",
      "[####################] 100%  building clusters     | 0:00:00 | s3 | \n",
      "[####################] 100%  chunking              | 0:00:00 | s3 | \n",
      "[####################] 100%  aligning              | 0:00:24 | s3 | \n",
      "[####################] 100%  concatenating         | 0:00:00 | s3 | \n",
      "[####################] 100%  inferring [H, E]      | 0:00:03 | s4 | \n",
      "[####################] 100%  calculating depths    | 0:00:00 | s5 | \n",
      "[####################] 100%  chunking clusters     | 0:00:00 | s5 | \n",
      "[####################] 100%  consens calling       | 0:00:16 | s5 | \n",
      "[####################] 100%  concat/shuffle input  | 0:00:00 | s6 | \n",
      "[####################] 100%  clustering across     | 0:00:01 | s6 | \n",
      "[####################] 100%  building clusters     | 0:00:00 | s6 | \n",
      "[####################] 100%  aligning clusters     | 0:00:07 | s6 | \n",
      "[####################] 100%  database indels       | 0:00:00 | s6 | \n",
      "[####################] 100%  indexing clusters     | 0:00:00 | s6 | \n",
      "[####################] 100%  building database     | 0:00:00 | s6 | \n",
      "[####################] 100%  filtering loci        | 0:00:00 | s7 | \n",
      "[####################] 100%  building loci/stats   | 0:00:00 | s7 | \n",
      "[####################] 100%  building vcf file     | 0:00:01 | s7 | \n",
      "[####################] 100%  writing vcf file      | 0:00:00 | s7 | \n",
      "[####################] 100%  building arrays       | 0:00:00 | s7 | \n",
      "[####################] 100%  writing outfiles      | 0:00:00 | s7 | \n",
      "Outfiles written to: ~/PDSB/12-parallel-genomics/notebooks/ipsimdata/pairddrad/pairddrad_outfiles\n",
      "\n"
     ]
    }
   ],
   "source": [
    "data_pairddrad.run(\"1234567\", ipyclient=ipyclient)"
   ]
  },
  {
   "cell_type": "markdown",
   "metadata": {},
   "source": [
    "### Print the final assembly stats"
   ]
  },
  {
   "cell_type": "code",
   "execution_count": 32,
   "metadata": {},
   "outputs": [
    {
     "name": "stdout",
     "output_type": "stream",
     "text": [
      "      state  reads_raw  reads_passed_filter  clusters_total  clusters_hidepth  \\\n",
      "1A_0      6      19835                19835            1000              1000   \n",
      "1B_0      6      20071                20071            1000              1000   \n",
      "1C_0      6      19969                19969            1000              1000   \n",
      "1D_0      6      20082                20082            1000              1000   \n",
      "2E_0      6      20004                20004            1000              1000   \n",
      "2F_0      6      19899                19899            1000              1000   \n",
      "2G_0      6      19928                19928            1001              1000   \n",
      "2H_0      6      20110                20110            1000              1000   \n",
      "3I_0      6      20078                20078            1000              1000   \n",
      "3J_0      6      19965                19965            1000              1000   \n",
      "3K_0      6      19846                19846            1000              1000   \n",
      "3L_0      6      20025                20025            1000              1000   \n",
      "\n",
      "      hetero_est  error_est  reads_consens  \n",
      "1A_0    0.001861   0.000758           1000  \n",
      "1B_0    0.001953   0.000750           1000  \n",
      "1C_0    0.001917   0.000729           1000  \n",
      "1D_0    0.001831   0.000712           1000  \n",
      "2E_0    0.001883   0.000754           1000  \n",
      "2F_0    0.001953   0.000750           1000  \n",
      "2G_0    0.001889   0.000757           1000  \n",
      "2H_0    0.002088   0.000714           1000  \n",
      "3I_0    0.001947   0.000742           1000  \n",
      "3J_0    0.001846   0.000723           1000  \n",
      "3K_0    0.001975   0.000751           1000  \n",
      "3L_0    0.001981   0.000735           1000  \n"
     ]
    }
   ],
   "source": [
    "print data_pairddrad.stats "
   ]
  },
  {
   "cell_type": "markdown",
   "metadata": {},
   "source": [
    "### Show the location of your assembled output files"
   ]
  },
  {
   "cell_type": "code",
   "execution_count": 33,
   "metadata": {},
   "outputs": [
    {
     "name": "stdout",
     "output_type": "stream",
     "text": [
      "\u001b[0m\u001b[01;34mpairddrad_across\u001b[0m/                pairddrad_example_genome.fa.sma\r\n",
      "\u001b[01;34mpairddrad_clust_0.85\u001b[0m/            pairddrad_example_genome.fa.smi\r\n",
      "\u001b[01;34mpairddrad_consens\u001b[0m/               \u001b[01;31mpairddrad_example_R1_.fastq.gz\u001b[0m\r\n",
      "\u001b[01;34mpairddrad_edits\u001b[0m/                 \u001b[01;31mpairddrad_example_R2_.fastq.gz\u001b[0m\r\n",
      "pairddrad_example_barcodes.txt   \u001b[01;34mpairddrad_fastqs\u001b[0m/\r\n",
      "pairddrad_example_genome.fa      pairddrad.json\r\n",
      "pairddrad_example_genome.fa.fai  \u001b[01;34mpairddrad_outfiles\u001b[0m/\r\n"
     ]
    }
   ],
   "source": [
    "ls ipsimdata/pairddrad"
   ]
  }
 ],
 "metadata": {
  "kernelspec": {
   "display_name": "Python 2",
   "language": "python",
   "name": "python2"
  },
  "language_info": {
   "codemirror_mode": {
    "name": "ipython",
    "version": 2
   },
   "file_extension": ".py",
   "mimetype": "text/x-python",
   "name": "python",
   "nbconvert_exporter": "python",
   "pygments_lexer": "ipython2",
   "version": "2.7.14"
  }
 },
 "nbformat": 4,
 "nbformat_minor": 2
}
