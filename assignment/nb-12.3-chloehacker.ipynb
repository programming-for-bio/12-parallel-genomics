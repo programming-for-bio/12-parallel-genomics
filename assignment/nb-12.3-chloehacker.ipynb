{
 "cells": [
  {
   "cell_type": "markdown",
   "metadata": {},
   "source": [
    "### Assignment: assemble an ipyrad example data set\n",
    "\n",
    "Follow the instructions here: http://ipyrad.readthedocs.io/API_user-guide.html to assemble a dataset using the ipyrad API. You will need to download the dataset as instructed below. This dataset is different from the one in the linked tutorial. Be sure to download the data into your scratch space, and to set the project directory for you ipyrad analysis to your scratch directory. You can use any of the datasets in the downloaded directory. Read the ipyrad docs if you have questions and/or hit up the gitter chatroom. \n",
    "\n",
    "** When finished copy this notebook to your assignments/ dir, push it, and make a pull request**. "
   ]
  },
  {
   "cell_type": "code",
   "execution_count": 3,
   "metadata": {},
   "outputs": [
    {
     "name": "stdout",
     "output_type": "stream",
     "text": [
      "Requirement already satisfied: ipyrad in /Users/chloehacker/miniconda3/lib/python2.7/site-packages\n",
      "Requirement already satisfied: pip in /Users/chloehacker/miniconda3/lib/python2.7/site-packages (from ipyrad)\n",
      "Requirement already satisfied: sphinx in /Users/chloehacker/miniconda3/lib/python2.7/site-packages (from ipyrad)\n",
      "Requirement already satisfied: cython in /Users/chloehacker/miniconda3/lib/python2.7/site-packages (from ipyrad)\n",
      "Requirement already satisfied: ipython in /Users/chloehacker/miniconda3/lib/python2.7/site-packages (from ipyrad)\n",
      "Requirement already satisfied: ipyparallel>=6.0.2 in /Users/chloehacker/miniconda3/lib/python2.7/site-packages (from ipyrad)\n",
      "Requirement already satisfied: scipy>0.10 in /Users/chloehacker/miniconda3/lib/python2.7/site-packages (from ipyrad)\n",
      "Requirement already satisfied: numpy>=1.9 in /Users/chloehacker/miniconda3/lib/python2.7/site-packages (from ipyrad)\n",
      "Requirement already satisfied: numba>=0.31 in /Users/chloehacker/miniconda3/lib/python2.7/site-packages (from ipyrad)\n",
      "Requirement already satisfied: pandas>=0.16 in /Users/chloehacker/miniconda3/lib/python2.7/site-packages (from ipyrad)\n",
      "Requirement already satisfied: h5py in /Users/chloehacker/miniconda3/lib/python2.7/site-packages (from ipyrad)\n",
      "Requirement already satisfied: networkx in /Users/chloehacker/miniconda3/lib/python2.7/site-packages (from ipyrad)\n",
      "Requirement already satisfied: dask in /Users/chloehacker/miniconda3/lib/python2.7/site-packages (from ipyrad)\n",
      "Requirement already satisfied: pysam>=0.10.0 in /Users/chloehacker/miniconda3/lib/python2.7/site-packages (from ipyrad)\n",
      "Requirement already satisfied: setuptools in /Users/chloehacker/miniconda3/lib/python2.7/site-packages (from ipyrad)\n",
      "Requirement already satisfied: six>=1.5 in /Users/chloehacker/miniconda3/lib/python2.7/site-packages (from sphinx->ipyrad)\n",
      "Requirement already satisfied: Jinja2>=2.3 in /Users/chloehacker/miniconda3/lib/python2.7/site-packages (from sphinx->ipyrad)\n",
      "Requirement already satisfied: Pygments>=2.0 in /Users/chloehacker/miniconda3/lib/python2.7/site-packages (from sphinx->ipyrad)\n",
      "Requirement already satisfied: docutils>=0.11 in /Users/chloehacker/miniconda3/lib/python2.7/site-packages (from sphinx->ipyrad)\n",
      "Requirement already satisfied: snowballstemmer>=1.1 in /Users/chloehacker/miniconda3/lib/python2.7/site-packages (from sphinx->ipyrad)\n",
      "Requirement already satisfied: babel!=2.0,>=1.3 in /Users/chloehacker/miniconda3/lib/python2.7/site-packages (from sphinx->ipyrad)\n",
      "Requirement already satisfied: alabaster<0.8,>=0.7 in /Users/chloehacker/miniconda3/lib/python2.7/site-packages (from sphinx->ipyrad)\n",
      "Requirement already satisfied: imagesize in /Users/chloehacker/miniconda3/lib/python2.7/site-packages (from sphinx->ipyrad)\n",
      "Requirement already satisfied: requests>=2.0.0 in /Users/chloehacker/miniconda3/lib/python2.7/site-packages (from sphinx->ipyrad)\n",
      "Requirement already satisfied: packaging in /Users/chloehacker/miniconda3/lib/python2.7/site-packages (from sphinx->ipyrad)\n",
      "Requirement already satisfied: sphinxcontrib-websupport in /Users/chloehacker/miniconda3/lib/python2.7/site-packages (from sphinx->ipyrad)\n",
      "Requirement already satisfied: typing in /Users/chloehacker/miniconda3/lib/python2.7/site-packages (from sphinx->ipyrad)\n",
      "Requirement already satisfied: decorator in /Users/chloehacker/miniconda3/lib/python2.7/site-packages (from ipython->ipyrad)\n",
      "Requirement already satisfied: pickleshare in /Users/chloehacker/miniconda3/lib/python2.7/site-packages (from ipython->ipyrad)\n",
      "Requirement already satisfied: simplegeneric>0.8 in /Users/chloehacker/miniconda3/lib/python2.7/site-packages (from ipython->ipyrad)\n",
      "Requirement already satisfied: traitlets>=4.2 in /Users/chloehacker/miniconda3/lib/python2.7/site-packages (from ipython->ipyrad)\n",
      "Requirement already satisfied: prompt_toolkit<2.0.0,>=1.0.4 in /Users/chloehacker/miniconda3/lib/python2.7/site-packages (from ipython->ipyrad)\n",
      "Requirement already satisfied: appnope in /Users/chloehacker/miniconda3/lib/python2.7/site-packages (from ipython->ipyrad)\n",
      "Requirement already satisfied: pexpect in /Users/chloehacker/miniconda3/lib/python2.7/site-packages (from ipython->ipyrad)\n",
      "Requirement already satisfied: backports.shutil_get_terminal_size in /Users/chloehacker/miniconda3/lib/python2.7/site-packages (from ipython->ipyrad)\n",
      "Requirement already satisfied: pathlib2 in /Users/chloehacker/miniconda3/lib/python2.7/site-packages (from ipython->ipyrad)\n",
      "Requirement already satisfied: ipython_genutils in /Users/chloehacker/miniconda3/lib/python2.7/site-packages (from ipyparallel>=6.0.2->ipyrad)\n",
      "Requirement already satisfied: pyzmq>=13 in /Users/chloehacker/miniconda3/lib/python2.7/site-packages (from ipyparallel>=6.0.2->ipyrad)\n",
      "Requirement already satisfied: jupyter_client in /Users/chloehacker/miniconda3/lib/python2.7/site-packages (from ipyparallel>=6.0.2->ipyrad)\n",
      "Requirement already satisfied: ipykernel in /Users/chloehacker/miniconda3/lib/python2.7/site-packages (from ipyparallel>=6.0.2->ipyrad)\n",
      "Requirement already satisfied: tornado>=4 in /Users/chloehacker/miniconda3/lib/python2.7/site-packages (from ipyparallel>=6.0.2->ipyrad)\n",
      "Requirement already satisfied: python-dateutil>=2.1 in /Users/chloehacker/miniconda3/lib/python2.7/site-packages (from ipyparallel>=6.0.2->ipyrad)\n",
      "Requirement already satisfied: futures in /Users/chloehacker/miniconda3/lib/python2.7/site-packages (from ipyparallel>=6.0.2->ipyrad)\n",
      "Requirement already satisfied: llvmlite>=0.22.0.dev0 in /Users/chloehacker/miniconda3/lib/python2.7/site-packages (from numba>=0.31->ipyrad)\n",
      "Requirement already satisfied: enum34 in /Users/chloehacker/miniconda3/lib/python2.7/site-packages (from numba>=0.31->ipyrad)\n",
      "Requirement already satisfied: singledispatch in /Users/chloehacker/miniconda3/lib/python2.7/site-packages (from numba>=0.31->ipyrad)\n",
      "Requirement already satisfied: funcsigs in /Users/chloehacker/miniconda3/lib/python2.7/site-packages (from numba>=0.31->ipyrad)\n",
      "Requirement already satisfied: pytz>=2011k in /Users/chloehacker/miniconda3/lib/python2.7/site-packages (from pandas>=0.16->ipyrad)\n",
      "Requirement already satisfied: MarkupSafe>=0.23 in /Users/chloehacker/miniconda3/lib/python2.7/site-packages (from Jinja2>=2.3->sphinx->ipyrad)\n",
      "Requirement already satisfied: chardet<3.1.0,>=3.0.2 in /Users/chloehacker/miniconda3/lib/python2.7/site-packages (from requests>=2.0.0->sphinx->ipyrad)\n",
      "Requirement already satisfied: idna<2.7,>=2.5 in /Users/chloehacker/miniconda3/lib/python2.7/site-packages (from requests>=2.0.0->sphinx->ipyrad)\n",
      "Requirement already satisfied: urllib3<1.23,>=1.21.1 in /Users/chloehacker/miniconda3/lib/python2.7/site-packages (from requests>=2.0.0->sphinx->ipyrad)\n",
      "Requirement already satisfied: certifi>=2017.4.17 in /Users/chloehacker/miniconda3/lib/python2.7/site-packages (from requests>=2.0.0->sphinx->ipyrad)\n",
      "Requirement already satisfied: pyparsing>=2.0.2 in /Users/chloehacker/miniconda3/lib/python2.7/site-packages (from packaging->sphinx->ipyrad)\n",
      "Requirement already satisfied: wcwidth in /Users/chloehacker/miniconda3/lib/python2.7/site-packages (from prompt_toolkit<2.0.0,>=1.0.4->ipython->ipyrad)\n",
      "Requirement already satisfied: ptyprocess>=0.5 in /Users/chloehacker/miniconda3/lib/python2.7/site-packages (from pexpect->ipython->ipyrad)\n",
      "Requirement already satisfied: scandir in /Users/chloehacker/miniconda3/lib/python2.7/site-packages (from pathlib2->ipython->ipyrad)\n",
      "Requirement already satisfied: jupyter_core in /Users/chloehacker/miniconda3/lib/python2.7/site-packages (from jupyter_client->ipyparallel>=6.0.2->ipyrad)\n",
      "Requirement already satisfied: backports_abc>=0.4 in /Users/chloehacker/miniconda3/lib/python2.7/site-packages (from tornado>=4->ipyparallel>=6.0.2->ipyrad)\n",
      "\u001b[33mYou are using pip version 9.0.3, however version 10.0.1 is available.\n",
      "You should consider upgrading via the 'pip install --upgrade pip' command.\u001b[0m\n"
     ]
    }
   ],
   "source": [
    "!pip install ipyrad\n"
   ]
  },
  {
   "cell_type": "code",
   "execution_count": 2,
   "metadata": {},
   "outputs": [],
   "source": [
    "import ipyrad as ip\n",
    "import ipyparallel as ipp"
   ]
  },
  {
   "cell_type": "markdown",
   "metadata": {},
   "source": [
    "### Download the data\n",
    "You will probably want to move the data to your scratch directory. You can run this code here to download it, or from a terminal. "
   ]
  },
  {
   "cell_type": "code",
   "execution_count": 3,
   "metadata": {
    "scrolled": true
   },
   "outputs": [
    {
     "name": "stderr",
     "output_type": "stream",
     "text": [
      "  % Total    % Received % Xferd  Average Speed   Time    Time     Time  Current\n",
      "                                 Dload  Upload   Total   Spent    Left  Speed\n",
      "\r",
      "  0     0    0     0    0     0      0      0 --:--:-- --:--:-- --:--:--     0\r",
      "100   147  100   147    0     0    930      0 --:--:-- --:--:-- --:--:--   936\n",
      "\r",
      "  0     0    0     0    0     0      0      0 --:--:-- --:--:-- --:--:--     0\r",
      "  8 11.8M    8  991k    0     0   684k      0  0:00:17  0:00:01  0:00:16  937k\r",
      " 23 11.8M   23 2799k    0     0  1173k      0  0:00:10  0:00:02  0:00:08 1400k\r",
      " 36 11.8M   36 4431k    0     0  1294k      0  0:00:09  0:00:03  0:00:06 1460k\r",
      " 51 11.8M   51 6223k    0     0  1409k      0  0:00:08  0:00:04  0:00:04 1546k\r",
      " 60 11.8M   60 7375k    0     0  1369k      0  0:00:08  0:00:05  0:00:03 1475k\r",
      " 83 11.8M   83  9.9M    0     0  1590k      0  0:00:07  0:00:06  0:00:01 1855k\r",
      "100 11.8M  100 11.8M    0     0  1682k      0  0:00:07  0:00:07 --:--:-- 1935k\n",
      "x ./ipsimdata/\n",
      "x ./ipsimdata/pairgbs_example_R2_.fastq.gz\n",
      "x ./ipsimdata/pairgbs_wmerge_example_barcodes.txt\n",
      "x ./ipsimdata/rad_example_genome.fa\n",
      "x ./ipsimdata/pairddrad_example_genome.fa\n",
      "x ./ipsimdata/pairgbs_example_R1_.fastq.gz\n",
      "x ./ipsimdata/pairgbs_wmerge_example_R2_.fastq.gz\n",
      "x ./ipsimdata/rad_example_genome.fa.fai\n",
      "x ./ipsimdata/pairddrad_example_R2_.fastq.gz\n",
      "x ./ipsimdata/pairddrad_example_genome.fa.sma\n",
      "x ./ipsimdata/pairddrad_example_genome.fa.fai\n",
      "x ./ipsimdata/pairgbs_wmerge_example_genome.fa\n",
      "x ./ipsimdata/pairddrad_wmerge_example_genome.fa\n",
      "x ./ipsimdata/pairddrad_example_genome.fa.smi\n",
      "x ./ipsimdata/pairgbs_wmerge_example_R1_.fastq.gz\n",
      "x ./ipsimdata/rad_example_genome.fa.smi\n",
      "x ./ipsimdata/gbs_example_barcodes.txt\n",
      "x ./ipsimdata/pairgbs_example_barcodes.txt\n",
      "x ./ipsimdata/pairddrad_example_R1_.fastq.gz\n",
      "x ./ipsimdata/pairddrad_wmerge_example_barcodes.txt\n",
      "x ./ipsimdata/rad_example_barcodes.txt\n",
      "x ./ipsimdata/pairddrad_wmerge_example_R1_.fastq.gz\n",
      "x ./ipsimdata/pairddrad_wmerge_example_R2_.fastq.gz\n",
      "x ./ipsimdata/gbs_example_R1_.fastq.gz\n",
      "x ./ipsimdata/pairddrad_example_barcodes.txt\n",
      "x ./ipsimdata/rad_example_genome.fa.sma\n",
      "x ./ipsimdata/rad_example_R1_.fastq.gz\n",
      "x ./ipsimdata/gbs_example_genome.fa\n"
     ]
    }
   ],
   "source": [
    "%%bash\n",
    "## The curl command needs a capital O, not a zero\n",
    "curl -LkO https://github.com/dereneaton/ipyrad/raw/master/tests/ipsimdata.tar.gz\n",
    "tar -xvzf ipsimdata.tar.gz"
   ]
  },
  {
   "cell_type": "code",
   "execution_count": 4,
   "metadata": {},
   "outputs": [
    {
     "name": "stdout",
     "output_type": "stream",
     "text": [
      "gbs_example_R1_.fastq.gz               pairgbs_example_R1_.fastq.gz\r\n",
      "gbs_example_barcodes.txt               pairgbs_example_R2_.fastq.gz\r\n",
      "gbs_example_genome.fa                  pairgbs_example_barcodes.txt\r\n",
      "pairddrad_example_R1_.fastq.gz         pairgbs_wmerge_example_R1_.fastq.gz\r\n",
      "pairddrad_example_R2_.fastq.gz         pairgbs_wmerge_example_R2_.fastq.gz\r\n",
      "pairddrad_example_barcodes.txt         pairgbs_wmerge_example_barcodes.txt\r\n",
      "pairddrad_example_genome.fa            pairgbs_wmerge_example_genome.fa\r\n",
      "pairddrad_example_genome.fa.fai        rad_example_R1_.fastq.gz\r\n",
      "pairddrad_example_genome.fa.sma        rad_example_barcodes.txt\r\n",
      "pairddrad_example_genome.fa.smi        rad_example_genome.fa\r\n",
      "pairddrad_wmerge_example_R1_.fastq.gz  rad_example_genome.fa.fai\r\n",
      "pairddrad_wmerge_example_R2_.fastq.gz  rad_example_genome.fa.sma\r\n",
      "pairddrad_wmerge_example_barcodes.txt  rad_example_genome.fa.smi\r\n",
      "pairddrad_wmerge_example_genome.fa\r\n"
     ]
    }
   ],
   "source": [
    "ls ipsimdata/\n"
   ]
  },
  {
   "cell_type": "markdown",
   "metadata": {},
   "source": [
    "### Connect to an ipcluster instance"
   ]
  },
  {
   "cell_type": "code",
   "execution_count": 9,
   "metadata": {},
   "outputs": [
    {
     "ename": "TimeoutError",
     "evalue": "Hub connection request timed out",
     "output_type": "error",
     "traceback": [
      "\u001b[0;31m---------------------------------------------------------------------------\u001b[0m",
      "\u001b[0;31mTimeoutError\u001b[0m                              Traceback (most recent call last)",
      "\u001b[0;32m<ipython-input-9-b797de0cfda0>\u001b[0m in \u001b[0;36m<module>\u001b[0;34m()\u001b[0m\n\u001b[1;32m      1\u001b[0m \u001b[0;31m## connect to the client\u001b[0m\u001b[0;34m\u001b[0m\u001b[0;34m\u001b[0m\u001b[0m\n\u001b[0;32m----> 2\u001b[0;31m \u001b[0mipyclient\u001b[0m \u001b[0;34m=\u001b[0m \u001b[0mipp\u001b[0m\u001b[0;34m.\u001b[0m\u001b[0mClient\u001b[0m\u001b[0;34m(\u001b[0m\u001b[0;34m)\u001b[0m\u001b[0;34m\u001b[0m\u001b[0m\n\u001b[0m\u001b[1;32m      3\u001b[0m \u001b[0;34m\u001b[0m\u001b[0m\n\u001b[1;32m      4\u001b[0m \u001b[0;34m\u001b[0m\u001b[0m\n\u001b[1;32m      5\u001b[0m \u001b[0;34m\u001b[0m\u001b[0m\n",
      "\u001b[0;32m/Users/chloehacker/anaconda2/lib/python2.7/site-packages/ipyparallel/client/client.pyc\u001b[0m in \u001b[0;36m__init__\u001b[0;34m(self, url_file, profile, profile_dir, ipython_dir, context, debug, sshserver, sshkey, password, paramiko, timeout, cluster_id, **extra_args)\u001b[0m\n\u001b[1;32m    509\u001b[0m \u001b[0;34m\u001b[0m\u001b[0m\n\u001b[1;32m    510\u001b[0m         \u001b[0;32mtry\u001b[0m\u001b[0;34m:\u001b[0m\u001b[0;34m\u001b[0m\u001b[0m\n\u001b[0;32m--> 511\u001b[0;31m             \u001b[0mself\u001b[0m\u001b[0;34m.\u001b[0m\u001b[0m_connect\u001b[0m\u001b[0;34m(\u001b[0m\u001b[0msshserver\u001b[0m\u001b[0;34m,\u001b[0m \u001b[0mssh_kwargs\u001b[0m\u001b[0;34m,\u001b[0m \u001b[0mtimeout\u001b[0m\u001b[0;34m)\u001b[0m\u001b[0;34m\u001b[0m\u001b[0m\n\u001b[0m\u001b[1;32m    512\u001b[0m         \u001b[0;32mexcept\u001b[0m\u001b[0;34m:\u001b[0m\u001b[0;34m\u001b[0m\u001b[0m\n\u001b[1;32m    513\u001b[0m             \u001b[0mself\u001b[0m\u001b[0;34m.\u001b[0m\u001b[0mclose\u001b[0m\u001b[0;34m(\u001b[0m\u001b[0mlinger\u001b[0m\u001b[0;34m=\u001b[0m\u001b[0;36m0\u001b[0m\u001b[0;34m)\u001b[0m\u001b[0;34m\u001b[0m\u001b[0m\n",
      "\u001b[0;32m/Users/chloehacker/anaconda2/lib/python2.7/site-packages/ipyparallel/client/client.pyc\u001b[0m in \u001b[0;36m_connect\u001b[0;34m(self, sshserver, ssh_kwargs, timeout)\u001b[0m\n\u001b[1;32m    628\u001b[0m         \u001b[0mevts\u001b[0m \u001b[0;34m=\u001b[0m \u001b[0mpoller\u001b[0m\u001b[0;34m.\u001b[0m\u001b[0mpoll\u001b[0m\u001b[0;34m(\u001b[0m\u001b[0mtimeout\u001b[0m\u001b[0;34m*\u001b[0m\u001b[0;36m1000\u001b[0m\u001b[0;34m)\u001b[0m\u001b[0;34m\u001b[0m\u001b[0m\n\u001b[1;32m    629\u001b[0m         \u001b[0;32mif\u001b[0m \u001b[0;32mnot\u001b[0m \u001b[0mevts\u001b[0m\u001b[0;34m:\u001b[0m\u001b[0;34m\u001b[0m\u001b[0m\n\u001b[0;32m--> 630\u001b[0;31m             \u001b[0;32mraise\u001b[0m \u001b[0merror\u001b[0m\u001b[0;34m.\u001b[0m\u001b[0mTimeoutError\u001b[0m\u001b[0;34m(\u001b[0m\u001b[0;34m\"Hub connection request timed out\"\u001b[0m\u001b[0;34m)\u001b[0m\u001b[0;34m\u001b[0m\u001b[0m\n\u001b[0m\u001b[1;32m    631\u001b[0m         \u001b[0midents\u001b[0m\u001b[0;34m,\u001b[0m \u001b[0mmsg\u001b[0m \u001b[0;34m=\u001b[0m \u001b[0mself\u001b[0m\u001b[0;34m.\u001b[0m\u001b[0msession\u001b[0m\u001b[0;34m.\u001b[0m\u001b[0mrecv\u001b[0m\u001b[0;34m(\u001b[0m\u001b[0mself\u001b[0m\u001b[0;34m.\u001b[0m\u001b[0m_query_socket\u001b[0m\u001b[0;34m,\u001b[0m \u001b[0mmode\u001b[0m\u001b[0;34m=\u001b[0m\u001b[0;36m0\u001b[0m\u001b[0;34m)\u001b[0m\u001b[0;34m\u001b[0m\u001b[0m\n\u001b[1;32m    632\u001b[0m         \u001b[0;32mif\u001b[0m \u001b[0mself\u001b[0m\u001b[0;34m.\u001b[0m\u001b[0mdebug\u001b[0m\u001b[0;34m:\u001b[0m\u001b[0;34m\u001b[0m\u001b[0m\n",
      "\u001b[0;31mTimeoutError\u001b[0m: Hub connection request timed out"
     ]
    }
   ],
   "source": [
    "## connect to the client\n",
    "ipyclient = ipp.Client()\n",
    "\n",
    "\n",
    "## use ipyrad to print cluster info\n",
    "#ip.cluster_info(ipyclient)\n"
   ]
  },
  {
   "cell_type": "code",
   "execution_count": 10,
   "metadata": {},
   "outputs": [
    {
     "ename": "NameError",
     "evalue": "name 'ipyclient' is not defined",
     "output_type": "error",
     "traceback": [
      "\u001b[0;31m---------------------------------------------------------------------------\u001b[0m",
      "\u001b[0;31mNameError\u001b[0m                                 Traceback (most recent call last)",
      "\u001b[0;32m<ipython-input-10-8ea8e92a9b2c>\u001b[0m in \u001b[0;36m<module>\u001b[0;34m()\u001b[0m\n\u001b[0;32m----> 1\u001b[0;31m \u001b[0mipyclient\u001b[0m\u001b[0;34m.\u001b[0m\u001b[0mids\u001b[0m\u001b[0;34m\u001b[0m\u001b[0m\n\u001b[0m",
      "\u001b[0;31mNameError\u001b[0m: name 'ipyclient' is not defined"
     ]
    }
   ],
   "source": [
    "ipyclient.ids"
   ]
  },
  {
   "cell_type": "markdown",
   "metadata": {},
   "source": [
    "### Assembly the dataset from step 1 to step 7"
   ]
  },
  {
   "cell_type": "code",
   "execution_count": 17,
   "metadata": {},
   "outputs": [
    {
     "name": "stdout",
     "output_type": "stream",
     "text": [
      "New Assembly: rad\n"
     ]
    }
   ],
   "source": [
    "rad = ip.Assembly(\"rad\")"
   ]
  },
  {
   "cell_type": "code",
   "execution_count": 18,
   "metadata": {},
   "outputs": [
    {
     "name": "stdout",
     "output_type": "stream",
     "text": [
      "0   assembly_name               rad                                          \n",
      "1   project_dir                 ./pedicularis                                \n",
      "2   raw_fastq_path              ./ipsimdata/gbs_example_R1_.fastq.gz         \n",
      "3   barcodes_path               ./ipsimdata/gbs_example_barcodes.txt         \n",
      "4   sorted_fastq_path                                                        \n",
      "5   assembly_method             denovo                                       \n",
      "6   reference_sequence                                                       \n",
      "7   datatype                    rad                                          \n",
      "8   restriction_overhang        ('TGCAG', '')                                \n",
      "9   max_low_qual_bases          5                                            \n",
      "10  phred_Qscore_offset         33                                           \n",
      "11  mindepth_statistical        6                                            \n",
      "12  mindepth_majrule            6                                            \n",
      "13  maxdepth                    10000                                        \n",
      "14  clust_threshold             0.85                                         \n",
      "15  max_barcode_mismatch        0                                            \n",
      "16  filter_adapters             2                                            \n",
      "17  filter_min_trim_len         35                                           \n",
      "18  max_alleles_consens         2                                            \n",
      "19  max_Ns_consens              (5, 5)                                       \n",
      "20  max_Hs_consens              (8, 8)                                       \n",
      "21  min_samples_locus           4                                            \n",
      "22  max_SNPs_locus              (20, 20)                                     \n",
      "23  max_Indels_locus            (8, 8)                                       \n",
      "24  max_shared_Hs_locus         0.5                                          \n",
      "25  trim_reads                  (0, 0, 0, 0)                                 \n",
      "26  trim_loci                   (0, 0, 0, 0)                                 \n",
      "27  output_formats              ['p', 's', 'v']                              \n",
      "28  pop_assign_file                                                          \n"
     ]
    }
   ],
   "source": [
    "rad.set_params(\"project_dir\", \"pedicularis\")\n",
    "rad.set_params(\"raw_fastq_path\", \"./ipsimdata/gbs_example_R1_.fastq.gz\")\n",
    "rad.set_params(\"barcodes_path\", \"./ipsimdata/gbs_example_barcodes.txt\")\n",
    "rad.set_params('filter_adapters', 2)\n",
    "rad.set_params('datatype', 'rad')\n",
    "rad.get_params()"
   ]
  },
  {
   "cell_type": "markdown",
   "metadata": {},
   "source": [
    "### Print the final assembly stats"
   ]
  },
  {
   "cell_type": "code",
   "execution_count": 19,
   "metadata": {},
   "outputs": [
    {
     "name": "stdout",
     "output_type": "stream",
     "text": [
      "Empty DataFrame\n",
      "Columns: []\n",
      "Index: []\n"
     ]
    }
   ],
   "source": [
    "print rad.stats"
   ]
  },
  {
   "cell_type": "markdown",
   "metadata": {},
   "source": [
    "### Show the location of your assembled output files"
   ]
  },
  {
   "cell_type": "code",
   "execution_count": null,
   "metadata": {
    "collapsed": true
   },
   "outputs": [],
   "source": []
  }
 ],
 "metadata": {
  "kernelspec": {
   "display_name": "Python 2",
   "language": "python",
   "name": "python2"
  },
  "language_info": {
   "codemirror_mode": {
    "name": "ipython",
    "version": 2
   },
   "file_extension": ".py",
   "mimetype": "text/x-python",
   "name": "python",
   "nbconvert_exporter": "python",
   "pygments_lexer": "ipython2",
   "version": "2.7.14"
  }
 },
 "nbformat": 4,
 "nbformat_minor": 2
}
