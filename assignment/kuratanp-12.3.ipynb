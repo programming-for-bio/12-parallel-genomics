{
 "cells": [
  {
   "cell_type": "markdown",
   "metadata": {},
   "source": [
    "### Assignment: assemble an ipyrad example data set\n",
    "\n",
    "Follow the instructions here: http://ipyrad.readthedocs.io/API_user-guide.html to assemble a dataset using the ipyrad API. You will need to download the dataset as instructed below. This dataset is different from the one in the linked tutorial. Be sure to download the data into your scratch space, and to set the project directory for you ipyrad analysis to your scratch directory. You can use any of the datasets in the downloaded directory. Read the ipyrad docs if you have questions and/or hit up the gitter chatroom. \n",
    "\n",
    "** When finished copy this notebook to your assignments/ dir, push it, and make a pull request**. "
   ]
  },
  {
   "cell_type": "code",
   "execution_count": null,
   "metadata": {},
   "outputs": [],
   "source": [
    "# source activate py27\n",
    "# conda install ipyrad -c pyrad\n",
    "# sbatch /rigel/home/nk2777/w4050/users/nk2777/jupyter-one-hour-edu.sbatch\n",
    "#　cat ./outputs/slurm-6280137-notebook.out\n",
    "# in bash $ ssh -N -L 9014:10.43.4.161:9014 habanero\n",
    "# in browser $ localhost:9014"
   ]
  },
  {
   "cell_type": "code",
   "execution_count": 1,
   "metadata": {},
   "outputs": [
    {
     "name": "stderr",
     "output_type": "stream",
     "text": [
      "/rigel/home/nk2777/miniconda3/envs/py27/lib/python2.7/site-packages/h5py/__init__.py:36: FutureWarning: Conversion of the second argument of issubdtype from `float` to `np.floating` is deprecated. In future, it will be treated as `np.float64 == np.dtype(float).type`.\n",
      "  from ._conv import register_converters as _register_converters\n"
     ]
    }
   ],
   "source": [
    "import ipyrad as ip\n",
    "import ipyparallel as ipp"
   ]
  },
  {
   "cell_type": "code",
   "execution_count": 2,
   "metadata": {},
   "outputs": [
    {
     "name": "stdout",
     "output_type": "stream",
     "text": [
      "0.7.23\n"
     ]
    }
   ],
   "source": [
    "## print the version of ipyrad\n",
    "print ip.__version__"
   ]
  },
  {
   "cell_type": "markdown",
   "metadata": {},
   "source": [
    "### Download the data\n",
    "You will probably want to move the data to your scratch directory. You can run this code here to download it, or from a terminal. "
   ]
  },
  {
   "cell_type": "code",
   "execution_count": 3,
   "metadata": {
    "scrolled": true
   },
   "outputs": [
    {
     "name": "stdout",
     "output_type": "stream",
     "text": [
      "./ipsimdata/\n",
      "./ipsimdata/pairgbs_example_R2_.fastq.gz\n",
      "./ipsimdata/pairgbs_wmerge_example_barcodes.txt\n",
      "./ipsimdata/rad_example_genome.fa\n",
      "./ipsimdata/pairddrad_example_genome.fa\n",
      "./ipsimdata/pairgbs_example_R1_.fastq.gz\n",
      "./ipsimdata/pairgbs_wmerge_example_R2_.fastq.gz\n",
      "./ipsimdata/rad_example_genome.fa.fai\n",
      "./ipsimdata/pairddrad_example_R2_.fastq.gz\n",
      "./ipsimdata/pairddrad_example_genome.fa.sma\n",
      "./ipsimdata/pairddrad_example_genome.fa.fai\n",
      "./ipsimdata/pairgbs_wmerge_example_genome.fa\n",
      "./ipsimdata/pairddrad_wmerge_example_genome.fa\n",
      "./ipsimdata/pairddrad_example_genome.fa.smi\n",
      "./ipsimdata/pairgbs_wmerge_example_R1_.fastq.gz\n",
      "./ipsimdata/rad_example_genome.fa.smi\n",
      "./ipsimdata/gbs_example_barcodes.txt\n",
      "./ipsimdata/pairgbs_example_barcodes.txt\n",
      "./ipsimdata/pairddrad_example_R1_.fastq.gz\n",
      "./ipsimdata/pairddrad_wmerge_example_barcodes.txt\n",
      "./ipsimdata/rad_example_barcodes.txt\n",
      "./ipsimdata/pairddrad_wmerge_example_R1_.fastq.gz\n",
      "./ipsimdata/pairddrad_wmerge_example_R2_.fastq.gz\n",
      "./ipsimdata/gbs_example_R1_.fastq.gz\n",
      "./ipsimdata/pairddrad_example_barcodes.txt\n",
      "./ipsimdata/rad_example_genome.fa.sma\n",
      "./ipsimdata/rad_example_R1_.fastq.gz\n",
      "./ipsimdata/gbs_example_genome.fa\n"
     ]
    },
    {
     "name": "stderr",
     "output_type": "stream",
     "text": [
      "  % Total    % Received % Xferd  Average Speed   Time    Time     Time  Current\n",
      "                                 Dload  Upload   Total   Spent    Left  Speed\n",
      "\r",
      "  0     0    0     0    0     0      0      0 --:--:-- --:--:-- --:--:--     0\r",
      "100   147  100   147    0     0    599      0 --:--:-- --:--:-- --:--:--   602\n",
      "\r",
      "100 11.8M  100 11.8M    0     0  19.4M      0 --:--:-- --:--:-- --:--:-- 19.4M\n"
     ]
    }
   ],
   "source": [
    "%%bash\n",
    "## The curl command needs a capital O, not a zero\n",
    "curl -LkO https://github.com/dereneaton/ipyrad/raw/master/tests/ipsimdata.tar.gz\n",
    "tar -xvzf ipsimdata.tar.gz"
   ]
  },
  {
   "cell_type": "code",
   "execution_count": 3,
   "metadata": {},
   "outputs": [
    {
     "name": "stdout",
     "output_type": "stream",
     "text": [
      "gbs_example_barcodes.txt               pairgbs_example_barcodes.txt\r\n",
      "gbs_example_genome.fa                  \u001b[0m\u001b[38;5;9mpairgbs_example_R1_.fastq.gz\u001b[0m\r\n",
      "\u001b[38;5;9mgbs_example_R1_.fastq.gz\u001b[0m               \u001b[38;5;9mpairgbs_example_R2_.fastq.gz\u001b[0m\r\n",
      "pairddrad_example_barcodes.txt         pairgbs_wmerge_example_barcodes.txt\r\n",
      "pairddrad_example_genome.fa            pairgbs_wmerge_example_genome.fa\r\n",
      "pairddrad_example_genome.fa.fai        \u001b[38;5;9mpairgbs_wmerge_example_R1_.fastq.gz\u001b[0m\r\n",
      "pairddrad_example_genome.fa.sma        \u001b[38;5;9mpairgbs_wmerge_example_R2_.fastq.gz\u001b[0m\r\n",
      "pairddrad_example_genome.fa.smi        rad_example_barcodes.txt\r\n",
      "\u001b[38;5;9mpairddrad_example_R1_.fastq.gz\u001b[0m         rad_example_genome.fa\r\n",
      "\u001b[38;5;9mpairddrad_example_R2_.fastq.gz\u001b[0m         rad_example_genome.fa.fai\r\n",
      "pairddrad_wmerge_example_barcodes.txt  rad_example_genome.fa.sma\r\n",
      "pairddrad_wmerge_example_genome.fa     rad_example_genome.fa.smi\r\n",
      "\u001b[38;5;9mpairddrad_wmerge_example_R1_.fastq.gz\u001b[0m  \u001b[38;5;9mrad_example_R1_.fastq.gz\u001b[0m\r\n",
      "\u001b[38;5;9mpairddrad_wmerge_example_R2_.fastq.gz\u001b[0m\r\n"
     ]
    }
   ],
   "source": [
    "ls ipsimdata/"
   ]
  },
  {
   "cell_type": "code",
   "execution_count": 11,
   "metadata": {},
   "outputs": [],
   "source": [
    "%%bash\n",
    "#move pairddrad_wmerge files into a new directly called pairddrad\n",
    "\n",
    "#pairddrad_wmerge_example_barcodes.txt  \n",
    "#pairddrad_wmerge_example_genome.fa     \n",
    "#pairddrad_wmerge_example_R1_.fastq.gz  \n",
    "#pairddrad_wmerge_example_R2_.fastq.gz\n"
   ]
  },
  {
   "cell_type": "code",
   "execution_count": 4,
   "metadata": {},
   "outputs": [
    {
     "name": "stdout",
     "output_type": "stream",
     "text": [
      "\u001b[0m\u001b[38;5;27mipsimdata\u001b[0m/        nb-12.1-parallel-threading.ipynb          \u001b[38;5;27mpairddrad\u001b[0m/\r\n",
      "\u001b[38;5;9mipsimdata.tar.gz\u001b[0m  nb-12.2-multiprocesing-ipyparallel.ipynb\r\n",
      "ipyrad_log.txt    nb-12.3-ipyrad-assignment.ipynb\r\n"
     ]
    }
   ],
   "source": [
    "ls"
   ]
  },
  {
   "cell_type": "markdown",
   "metadata": {},
   "source": [
    "### Connect to an ipcluster instance"
   ]
  },
  {
   "cell_type": "code",
   "execution_count": 3,
   "metadata": {},
   "outputs": [],
   "source": [
    "%%bash\n",
    "ipcluster start --n=4 --daemonize\n"
   ]
  },
  {
   "cell_type": "code",
   "execution_count": 4,
   "metadata": {},
   "outputs": [
    {
     "name": "stdout",
     "output_type": "stream",
     "text": [
      "host compute node: [4 cores] on node037\n"
     ]
    }
   ],
   "source": [
    "# The run command will automatically parallelize work across all cores of a running ipcluster instance \n",
    "# Start this outside of notebook. \n",
    "# If ipcluster is running on the default profile then ipyrad will detect and use it when the run command is called. \n",
    "# However, if you start an ipcluster instance with a specific profile name then you will need to connect \n",
    "# to it using the ipyparallel library and then pass the connection client object to ipyrad. \n",
    "\n",
    "## connect to the client\n",
    "ipyclient = ipp.Client()\n",
    "## use ipyrad to print cluster info\n",
    "ip.cluster_info(ipyclient)"
   ]
  },
  {
   "cell_type": "code",
   "execution_count": 6,
   "metadata": {},
   "outputs": [
    {
     "name": "stdout",
     "output_type": "stream",
     "text": [
      "New Assembly: ipsimdata\n"
     ]
    }
   ],
   "source": [
    "ipsimdata = ip.Assembly(\"ipsimdata\")"
   ]
  },
  {
   "cell_type": "markdown",
   "metadata": {},
   "source": [
    "### Assembly the dataset from step 1 to step 7"
   ]
  },
  {
   "cell_type": "code",
   "execution_count": 8,
   "metadata": {},
   "outputs": [
    {
     "name": "stdout",
     "output_type": "stream",
     "text": [
      "0   assembly_name               ipsimdata                                    \n",
      "1   project_dir                 /rigel/home/nk2777/w4050/users/nk2777/pairddrad\n",
      "2   raw_fastq_path              /rigel/home/nk2777/w4050/users/nk2777/pairddrad/*.gz\n",
      "3   barcodes_path               /rigel/home/nk2777/w4050/users/nk2777/pairddrad/pairddrad_wmerge_example_barcodes.txt\n",
      "4   sorted_fastq_path                                                        \n",
      "5   assembly_method             denovo                                       \n",
      "6   reference_sequence                                                       \n",
      "7   datatype                    pairddrad                                    \n",
      "8   restriction_overhang        ('TGCAG', '')                                \n",
      "9   max_low_qual_bases          5                                            \n",
      "10  phred_Qscore_offset         33                                           \n",
      "11  mindepth_statistical        6                                            \n",
      "12  mindepth_majrule            6                                            \n",
      "13  maxdepth                    10000                                        \n",
      "14  clust_threshold             0.85                                         \n",
      "15  max_barcode_mismatch        0                                            \n",
      "16  filter_adapters             2                                            \n",
      "17  filter_min_trim_len         35                                           \n",
      "18  max_alleles_consens         2                                            \n",
      "19  max_Ns_consens              (5, 5)                                       \n",
      "20  max_Hs_consens              (8, 8)                                       \n",
      "21  min_samples_locus           4                                            \n",
      "22  max_SNPs_locus              (20, 20)                                     \n",
      "23  max_Indels_locus            (8, 8)                                       \n",
      "24  max_shared_Hs_locus         0.5                                          \n",
      "25  trim_reads                  (0, 0, 0, 0)                                 \n",
      "26  trim_loci                   (0, 0, 0, 0)                                 \n",
      "27  output_formats              ['G', 'a', 'g', 'k', 'm', 'l', 'n', 'p', 's', 'u', 't', 'v']\n",
      "28  pop_assign_file                                                          \n"
     ]
    }
   ],
   "source": [
    "## Then I need to set/modify the parameters\n",
    "## refer http://ipyrad.readthedocs.io/parameters.html#filter-adapters\n",
    "\n",
    "ipsimdata.set_params('project_dir', '/rigel/home/nk2777/w4050/users/nk2777/pairddrad')\n",
    "ipsimdata.set_params('raw_fastq_path', '/rigel/home/nk2777/w4050/users/nk2777/pairddrad/*.gz')\n",
    "ipsimdata.set_params('barcodes_path', '/rigel/home/nk2777/w4050/users/nk2777/pairddrad/pairddrad_wmerge_example_barcodes.txt')\n",
    "ipsimdata.set_params('datatype', 'pairddrad') # paired ddrad type (2 different cutters)\n",
    "ipsimdata.set_params('filter_adapters', 2) # reads are thesearched for the common Illumina adapter, plus the reverse complement of the second cut site (if present), plus the barcode (if present), and this part of the read is trimmed. \n",
    "ipsimdata.set_params(\"output_formats\", \"*\") # Make all output datatypes\n",
    "\n",
    "# Print the parameters to the screen\n",
    "ipsimdata.get_params() "
   ]
  },
  {
   "cell_type": "code",
   "execution_count": 9,
   "metadata": {},
   "outputs": [
    {
     "name": "stdout",
     "output_type": "stream",
     "text": [
      "Assembly: ipsimdata\n",
      "[####################] 100%  sorting reads         | 0:00:17 | s1 | \n",
      "[####################] 100%  writing/compressing   | 0:00:07 | s1 | \n",
      "[####################] 100%  processing reads      | 0:00:24 | s2 | \n",
      "[####################] 100%  dereplicating         | 0:00:04 | s3 | \n",
      "[####################] 100%  clustering            | 0:00:14 | s3 | \n",
      "[####################] 100%  building clusters     | 0:00:00 | s3 | \n",
      "[####################] 100%  chunking              | 0:00:00 | s3 | \n",
      "[####################] 100%  aligning              | 0:02:13 | s3 | \n",
      "[####################] 100%  concatenating         | 0:00:00 | s3 | \n",
      "[####################] 100%  inferring [H, E]      | 0:00:16 | s4 | \n",
      "[####################] 100%  calculating depths    | 0:00:00 | s5 | \n",
      "[####################] 100%  chunking clusters     | 0:00:00 | s5 | \n",
      "[####################] 100%  consens calling       | 0:01:04 | s5 | \n",
      "[####################] 100%  concat/shuffle input  | 0:00:00 | s6 | \n",
      "[####################] 100%  clustering across     | 0:00:03 | s6 | \n",
      "[####################] 100%  building clusters     | 0:00:00 | s6 | \n",
      "[####################] 100%  aligning clusters     | 0:00:30 | s6 | \n",
      "[####################] 100%  database indels       | 0:00:00 | s6 | \n",
      "[####################] 100%  indexing clusters     | 0:00:03 | s6 | \n",
      "[####################] 100%  building database     | 0:00:00 | s6 | \n",
      "[####################] 100%  filtering loci        | 0:00:22 | s7 | \n",
      "[####################] 100%  building loci/stats   | 0:00:01 | s7 | \n",
      "[####################] 100%  building alleles      | 0:00:02 | s7 | \n",
      "[####################] 100%  building vcf file     | 0:00:09 | s7 | \n",
      "[####################] 100%  writing vcf file      | 0:00:00 | s7 | \n",
      "[####################] 100%  building arrays       | 0:00:01 | s7 | \n",
      "[####################] 100%  writing outfiles      | 0:00:01 | s7 | \n",
      "Outfiles written to: ~/w4050/users/nk2777/pairddrad/ipsimdata_outfiles\n",
      "\n"
     ]
    },
    {
     "data": {
      "text/plain": [
       "{'1A_0': <ipyrad.core.sample.Sample at 0x2aaaf625ec10>,\n",
       " '1B_0': <ipyrad.core.sample.Sample at 0x2aaaf625ef90>,\n",
       " '1C_0': <ipyrad.core.sample.Sample at 0x2aaaf6234d50>,\n",
       " '1D_0': <ipyrad.core.sample.Sample at 0x2aaaf6234890>,\n",
       " '2E_0': <ipyrad.core.sample.Sample at 0x2aaaf624af50>,\n",
       " '2F_0': <ipyrad.core.sample.Sample at 0x2aaaf625b410>,\n",
       " '2G_0': <ipyrad.core.sample.Sample at 0x2aaaf6224a10>,\n",
       " '2H_0': <ipyrad.core.sample.Sample at 0x2aaaf6238b10>,\n",
       " '3I_0': <ipyrad.core.sample.Sample at 0x2aaaf625b9d0>,\n",
       " '3J_0': <ipyrad.core.sample.Sample at 0x2aaaf624ae50>,\n",
       " '3K_0': <ipyrad.core.sample.Sample at 0x2aaaf624a790>,\n",
       " '3L_0': <ipyrad.core.sample.Sample at 0x2aaaf625bf90>}"
      ]
     },
     "execution_count": 9,
     "metadata": {},
     "output_type": "execute_result"
    }
   ],
   "source": [
    "ipsimdata.run(\"1234567\", ipyclient=ipyclient) #runs all steps\n",
    "ipsimdata.samples #lists the name of the filtered samples"
   ]
  },
  {
   "cell_type": "markdown",
   "metadata": {},
   "source": [
    "### Print the final assembly stats"
   ]
  },
  {
   "cell_type": "code",
   "execution_count": 10,
   "metadata": {},
   "outputs": [
    {
     "name": "stdout",
     "output_type": "stream",
     "text": [
      "      state  reads_raw  reads_passed_filter  clusters_total  clusters_hidepth  \\\n",
      "1A_0      6      20040                20040            1000              1000   \n",
      "1B_0      6      19982                19982            1001              1000   \n",
      "1C_0      6      20105                20105            1000              1000   \n",
      "1D_0      6      20172                20172            1001              1000   \n",
      "2E_0      6      20082                20082            1000              1000   \n",
      "2F_0      6      20082                20082            1000              1000   \n",
      "2G_0      6      20095                20095            1000              1000   \n",
      "2H_0      6      20005                20005            1000              1000   \n",
      "3I_0      6      19824                19824            1000              1000   \n",
      "3J_0      6      20100                20100            1000              1000   \n",
      "3K_0      6      20076                20076            1000              1000   \n",
      "3L_0      6      19932                19932            1000              1000   \n",
      "\n",
      "      hetero_est  error_est  reads_consens  \n",
      "1A_0    0.002235   0.000721           1000  \n",
      "1B_0    0.001959   0.000730           1000  \n",
      "1C_0    0.002205   0.000740           1000  \n",
      "1D_0    0.001862   0.000726           1000  \n",
      "2E_0    0.001906   0.000730           1000  \n",
      "2F_0    0.001868   0.000748           1000  \n",
      "2G_0    0.001971   0.000747           1000  \n",
      "2H_0    0.002052   0.000744           1000  \n",
      "3I_0    0.001924   0.000731           1000  \n",
      "3J_0    0.001747   0.000713           1000  \n",
      "3K_0    0.001875   0.000763           1000  \n",
      "3L_0    0.001874   0.000739           1000  \n"
     ]
    }
   ],
   "source": [
    "print ipsimdata.stats"
   ]
  },
  {
   "cell_type": "markdown",
   "metadata": {},
   "source": [
    "### Show the location of your assembled output files"
   ]
  },
  {
   "cell_type": "code",
   "execution_count": 12,
   "metadata": {},
   "outputs": [
    {
     "name": "stdout",
     "output_type": "stream",
     "text": [
      "ipsimdata.alleles.loci\n",
      "ipsimdata.geno\n",
      "ipsimdata.gphocs\n",
      "ipsimdata.hdf5\n",
      "ipsimdata.loci\n",
      "ipsimdata.nex\n",
      "ipsimdata.phy\n",
      "ipsimdata.snps.map\n",
      "ipsimdata.snps.phy\n",
      "ipsimdata_stats.txt\n",
      "ipsimdata.str\n",
      "ipsimdata.u.geno\n",
      "ipsimdata.u.snps.phy\n",
      "ipsimdata.ustr\n",
      "ipsimdata.vcf\n"
     ]
    }
   ],
   "source": [
    "%%bash \n",
    "cd /rigel/home/nk2777/w4050/users/nk2777/pairddrad/ipsimdata_outfiles\n",
    "ls"
   ]
  }
 ],
 "metadata": {
  "kernelspec": {
   "display_name": "Python 2",
   "language": "python",
   "name": "python2"
  },
  "language_info": {
   "codemirror_mode": {
    "name": "ipython",
    "version": 2
   },
   "file_extension": ".py",
   "mimetype": "text/x-python",
   "name": "python",
   "nbconvert_exporter": "python",
   "pygments_lexer": "ipython2",
   "version": "2.7.14"
  }
 },
 "nbformat": 4,
 "nbformat_minor": 2
}
